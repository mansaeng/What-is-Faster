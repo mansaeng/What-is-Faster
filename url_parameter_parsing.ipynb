{
  "nbformat": 4,
  "nbformat_minor": 0,
  "metadata": {
    "colab": {
      "name": "url-parameter-parsing.ipynb",
      "provenance": [],
      "collapsed_sections": [],
      "authorship_tag": "ABX9TyOIBXOi6Y0Q5Xwfcm2y+YX9",
      "include_colab_link": true
    },
    "kernelspec": {
      "name": "python3",
      "display_name": "Python 3"
    },
    "language_info": {
      "name": "python"
    }
  },
  "cells": [
    {
      "cell_type": "markdown",
      "metadata": {
        "id": "view-in-github",
        "colab_type": "text"
      },
      "source": [
        "<a href=\"https://colab.research.google.com/github/mansaeng/What-is-Faster/blob/main/url_parameter_parsing.ipynb\" target=\"_parent\"><img src=\"https://colab.research.google.com/assets/colab-badge.svg\" alt=\"Open In Colab\"/></a>"
      ]
    },
    {
      "cell_type": "code",
      "metadata": {
        "id": "bu0ccO8cj8T_"
      },
      "source": [
        "# Importing modules\n",
        "import time\n",
        "import re\n",
        "import urllib.parse as urlparse\n",
        "from urllib.parse import parse_qs"
      ],
      "execution_count": 1,
      "outputs": []
    },
    {
      "cell_type": "code",
      "metadata": {
        "id": "z9HHSyKVkPBp"
      },
      "source": [
        "def compare_post_url(url, url2):\n",
        "\tparsed_url = urlparse.urlparse(url)\n",
        "\tparsed_url2 = urlparse.urlparse(url2)\n",
        "\tmemberNo = parse_qs(parsed_url.query)['memberNo']\n",
        "\tmemberNo2 = parse_qs(parsed_url2.query)['memberNo']\n",
        "\tvolumeNo = parse_qs(parsed_url2.query)['volumeNo']\n",
        "\tvolumeNo2 = parse_qs(parsed_url2.query)['volumeNo']\n",
        "\tif memberNo == memberNo2 and volumeNo == volumeNo2:\n",
        "\t\treturn True\n",
        "\telse:\n",
        "\t\treturn False"
      ],
      "execution_count": 2,
      "outputs": []
    },
    {
      "cell_type": "code",
      "metadata": {
        "id": "P3TD20SXkQ9A"
      },
      "source": [
        "def compare_post_url2(url, url2):\n",
        "\tmemberNo = re.findall('memberNo=[0-9]*',url)[0].split('=')[1]\n",
        "\tmemberNo2 = re.findall('memberNo=[0-9]*',url2)[0].split('=')[1]\n",
        "\tvolumeNo = re.findall('volumeNo=[0-9]*',url)[0].split('=')[1]\n",
        "\tvolumeNo2 = re.findall('volumeNo=[0-9]*',url2)[0].split('=')[1]\n",
        "\tif memberNo == memberNo2 and volumeNo == volumeNo2:\n",
        "\t\treturn True\n",
        "\telse:\n",
        "\t\treturn False"
      ],
      "execution_count": 3,
      "outputs": []
    },
    {
      "cell_type": "code",
      "metadata": {
        "id": "uQ2jLUzZkSh6"
      },
      "source": [
        "url = 'https://m.post.naver.com/viewer/postView.nhn?volumeNo=12345&memberNo=56789&vType=VERTICAL'\n",
        "url2 = 'https://m.post.naver.com/viewer/postView.nhn?memberNo=56789&volumeNo=12345&vType=VERTICAL'"
      ],
      "execution_count": 4,
      "outputs": []
    },
    {
      "cell_type": "code",
      "metadata": {
        "colab": {
          "base_uri": "https://localhost:8080/"
        },
        "id": "zN59NpBYknZm",
        "outputId": "8f62c3ee-8bd8-42e9-8e17-b62833f70df3"
      },
      "source": [
        "start = time.time()\n",
        "\n",
        "for _ in range(10000):\n",
        "\tcompare_post_url(url, url2)\n",
        "\n",
        "print(time.time()-start)"
      ],
      "execution_count": 5,
      "outputs": [
        {
          "output_type": "stream",
          "text": [
            "0.3175172805786133\n"
          ],
          "name": "stdout"
        }
      ]
    },
    {
      "cell_type": "code",
      "metadata": {
        "colab": {
          "base_uri": "https://localhost:8080/"
        },
        "id": "73otSlyxku_5",
        "outputId": "52f32741-511e-4a30-b847-ecc1c9b35b83"
      },
      "source": [
        "start = time.time()\n",
        "\n",
        "for _ in range(10000):\n",
        "\tcompare_post_url2(url, url2)\n",
        "\n",
        "print(time.time()-start)"
      ],
      "execution_count": 6,
      "outputs": [
        {
          "output_type": "stream",
          "text": [
            "0.0683145523071289\n"
          ],
          "name": "stdout"
        }
      ]
    }
  ]
}