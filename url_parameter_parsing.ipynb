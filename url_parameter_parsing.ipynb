{
  "nbformat": 4,
  "nbformat_minor": 0,
  "metadata": {
    "colab": {
      "name": "url-parameter-parsing.ipynb",
      "provenance": [],
      "collapsed_sections": [],
      "authorship_tag": "ABX9TyNONTDyWhaSqohSYXyCcQNv",
      "include_colab_link": true
    },
    "kernelspec": {
      "name": "python3",
      "display_name": "Python 3"
    },
    "language_info": {
      "name": "python"
    }
  },
  "cells": [
    {
      "cell_type": "markdown",
      "metadata": {
        "id": "view-in-github",
        "colab_type": "text"
      },
      "source": [
        "<a href=\"https://colab.research.google.com/github/mansaeng/What-is-Faster/blob/main/url_parameter_parsing.ipynb\" target=\"_parent\"><img src=\"https://colab.research.google.com/assets/colab-badge.svg\" alt=\"Open In Colab\"/></a>"
      ]
    },
    {
      "cell_type": "code",
      "metadata": {
        "id": "bu0ccO8cj8T_"
      },
      "source": [
        "# Importing modules\n",
        "import time\n",
        "import re\n",
        "import urllib.parse as urlparse\n",
        "from urllib.parse import parse_qs"
      ],
      "execution_count": 1,
      "outputs": []
    },
    {
      "cell_type": "code",
      "metadata": {
        "id": "z9HHSyKVkPBp"
      },
      "source": [
        "# this is using urlparse\n",
        "def compare_post_url(url, url2):\n",
        "\tparsed_url = urlparse.urlparse(url)\n",
        "\tparsed_url2 = urlparse.urlparse(url2)\n",
        "\tmemberNo = parse_qs(parsed_url.query)['memberNo']\n",
        "\tmemberNo2 = parse_qs(parsed_url2.query)['memberNo']\n",
        "\tvolumeNo = parse_qs(parsed_url2.query)['volumeNo']\n",
        "\tvolumeNo2 = parse_qs(parsed_url2.query)['volumeNo']\n",
        "\tif memberNo == memberNo2 and volumeNo == volumeNo2:\n",
        "\t\treturn True\n",
        "\telse:\n",
        "\t\treturn False"
      ],
      "execution_count": 2,
      "outputs": []
    },
    {
      "cell_type": "code",
      "metadata": {
        "id": "P3TD20SXkQ9A"
      },
      "source": [
        "# this is using regex\n",
        "def compare_post_url2(url, url2):\n",
        "\tmemberNo = re.findall('memberNo=([0-9]*)',url)[0]\n",
        "\tmemberNo2 = re.findall('memberNo=([0-9]*)',url2)[0]\n",
        "\tvolumeNo = re.findall('volumeNo=([0-9]*)',url)[0]\n",
        "\tvolumeNo2 = re.findall('volumeNo=([0-9]*)',url2)[0]\n",
        "\tif memberNo == memberNo2 and volumeNo == volumeNo2:\n",
        "\t\treturn True\n",
        "\telse:\n",
        "\t\treturn False"
      ],
      "execution_count": 3,
      "outputs": []
    },
    {
      "cell_type": "code",
      "metadata": {
        "id": "uQ2jLUzZkSh6"
      },
      "source": [
        "url = 'https://m.post.naver.com/viewer/postView.nhn?volumeNo=12345&memberNo=56789&vType=VERTICAL'\n",
        "url2 = 'https://m.post.naver.com/viewer/postView.nhn?memberNo=56789&volumeNo=12345&vType=VERTICAL'"
      ],
      "execution_count": 4,
      "outputs": []
    },
    {
      "cell_type": "code",
      "metadata": {
        "id": "zN59NpBYknZm",
        "colab": {
          "base_uri": "https://localhost:8080/"
        },
        "outputId": "5f12f696-456f-43b1-c189-ef29fcea6f31"
      },
      "source": [
        "start = time.time()\n",
        "\n",
        "for _ in range(10000):\n",
        "\tcompare_post_url(url, url2)\n",
        "\n",
        "print(time.time()-start)"
      ],
      "execution_count": 5,
      "outputs": [
        {
          "output_type": "stream",
          "text": [
            "0.31789135932922363\n"
          ],
          "name": "stdout"
        }
      ]
    },
    {
      "cell_type": "code",
      "metadata": {
        "id": "73otSlyxku_5",
        "colab": {
          "base_uri": "https://localhost:8080/"
        },
        "outputId": "1ae82dbd-c460-49b4-f993-fae04629de2a"
      },
      "source": [
        "start = time.time()\n",
        "\n",
        "for _ in range(10000):\n",
        "\tcompare_post_url2(url, url2)\n",
        "\n",
        "print(time.time()-start)"
      ],
      "execution_count": 6,
      "outputs": [
        {
          "output_type": "stream",
          "text": [
            "0.0448606014251709\n"
          ],
          "name": "stdout"
        }
      ]
    },
    {
      "cell_type": "markdown",
      "metadata": {
        "id": "7X0t7bDTsvzi"
      },
      "source": [
        "# 결론\n",
        "urlparse 보다 정규식을 사용하는 것이 몇 배 빠르다."
      ]
    }
  ]
}